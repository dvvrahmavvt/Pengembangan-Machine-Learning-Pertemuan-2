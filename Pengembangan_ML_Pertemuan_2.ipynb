{
  "nbformat": 4,
  "nbformat_minor": 0,
  "metadata": {
    "colab": {
      "provenance": []
    },
    "kernelspec": {
      "name": "python3",
      "display_name": "Python 3"
    },
    "language_info": {
      "name": "python"
    }
  },
  "cells": [
    {
      "cell_type": "markdown",
      "source": [
        "PENGEMBANGAN MACHINE LEARNING PERTEMUAN 2"
      ],
      "metadata": {
        "id": "KQGzhgexSSCW"
      }
    },
    {
      "cell_type": "markdown",
      "source": [],
      "metadata": {
        "id": "Hn_lC7PdScf8"
      }
    },
    {
      "cell_type": "markdown",
      "source": [
        "Tugas Pertemuan 2"
      ],
      "metadata": {
        "id": "cQCi0goNWzSb"
      }
    },
    {
      "cell_type": "code",
      "execution_count": 1,
      "metadata": {
        "colab": {
          "base_uri": "https://localhost:8080/"
        },
        "id": "JbE030mrR9lT",
        "outputId": "b7df938c-93ac-4a16-b55f-cb198bbfe88d"
      },
      "outputs": [
        {
          "output_type": "stream",
          "name": "stdout",
          "text": [
            "Mounted at /content/drive\n"
          ]
        }
      ],
      "source": [
        "from google.colab import drive\n",
        "drive.mount('/content/drive')"
      ]
    },
    {
      "cell_type": "code",
      "source": [
        "!mkdir Pengembangan_Machine_Learning"
      ],
      "metadata": {
        "id": "Jk-T4u7eXi5n"
      },
      "execution_count": 2,
      "outputs": []
    },
    {
      "cell_type": "code",
      "source": [
        "cd Pengembangan_Machine_Learning"
      ],
      "metadata": {
        "colab": {
          "base_uri": "https://localhost:8080/"
        },
        "id": "VcIwlkp-XnUq",
        "outputId": "a9b5b78e-161b-4dca-b159-7d5ddccbc96e"
      },
      "execution_count": 3,
      "outputs": [
        {
          "output_type": "stream",
          "name": "stdout",
          "text": [
            "/content/Pengembangan_Machine_Learning\n"
          ]
        }
      ]
    },
    {
      "cell_type": "code",
      "source": [
        "!pwd"
      ],
      "metadata": {
        "colab": {
          "base_uri": "https://localhost:8080/"
        },
        "id": "7xpgltWaXuK7",
        "outputId": "a70731f5-6990-4a4e-83e2-0c094e717165"
      },
      "execution_count": 4,
      "outputs": [
        {
          "output_type": "stream",
          "name": "stdout",
          "text": [
            "/content/Pengembangan_Machine_Learning\n"
          ]
        }
      ]
    },
    {
      "cell_type": "code",
      "source": [
        "%%writefile requirements.txt\n",
        "# Berikut adalah daftar library yang akan digunakan dalam project ini\n",
        "streamlit"
      ],
      "metadata": {
        "colab": {
          "base_uri": "https://localhost:8080/"
        },
        "id": "RG535kdKXwbN",
        "outputId": "d2b950b4-9d3d-4c73-987f-015e91956306"
      },
      "execution_count": 5,
      "outputs": [
        {
          "output_type": "stream",
          "name": "stdout",
          "text": [
            "Writing requirements.txt\n"
          ]
        }
      ]
    },
    {
      "cell_type": "code",
      "source": [
        "!ls"
      ],
      "metadata": {
        "colab": {
          "base_uri": "https://localhost:8080/"
        },
        "id": "XuPQ6-cFXytx",
        "outputId": "fbd5f933-0d08-497f-fc3d-9b14b7dcafa6"
      },
      "execution_count": 6,
      "outputs": [
        {
          "output_type": "stream",
          "name": "stdout",
          "text": [
            "requirements.txt\n"
          ]
        }
      ]
    },
    {
      "cell_type": "code",
      "source": [
        "!cat requirements.txt"
      ],
      "metadata": {
        "colab": {
          "base_uri": "https://localhost:8080/"
        },
        "id": "gnbnIuOQX08a",
        "outputId": "bda0d444-9b14-475e-8d6f-ed2afe5ad3a2"
      },
      "execution_count": 7,
      "outputs": [
        {
          "output_type": "stream",
          "name": "stdout",
          "text": [
            "# Berikut adalah daftar library yang akan digunakan dalam project ini\n",
            "streamlit\n"
          ]
        }
      ]
    },
    {
      "cell_type": "code",
      "source": [
        "!pip install -q -r requirements.txt"
      ],
      "metadata": {
        "colab": {
          "base_uri": "https://localhost:8080/"
        },
        "id": "Lxbn8rAdX29t",
        "outputId": "f7bf6888-9453-433c-8569-7825529aa100"
      },
      "execution_count": 8,
      "outputs": [
        {
          "output_type": "stream",
          "name": "stdout",
          "text": [
            "\u001b[2K     \u001b[90m━━━━━━━━━━━━━━━━━━━━━━━━━━━━━━━━━━━━━━━━\u001b[0m \u001b[32m44.3/44.3 kB\u001b[0m \u001b[31m1.5 MB/s\u001b[0m eta \u001b[36m0:00:00\u001b[0m\n",
            "\u001b[2K   \u001b[90m━━━━━━━━━━━━━━━━━━━━━━━━━━━━━━━━━━━━━━━━\u001b[0m \u001b[32m9.9/9.9 MB\u001b[0m \u001b[31m56.8 MB/s\u001b[0m eta \u001b[36m0:00:00\u001b[0m\n",
            "\u001b[2K   \u001b[90m━━━━━━━━━━━━━━━━━━━━━━━━━━━━━━━━━━━━━━━━\u001b[0m \u001b[32m6.9/6.9 MB\u001b[0m \u001b[31m96.5 MB/s\u001b[0m eta \u001b[36m0:00:00\u001b[0m\n",
            "\u001b[2K   \u001b[90m━━━━━━━━━━━━━━━━━━━━━━━━━━━━━━━━━━━━━━━━\u001b[0m \u001b[32m79.1/79.1 kB\u001b[0m \u001b[31m7.0 MB/s\u001b[0m eta \u001b[36m0:00:00\u001b[0m\n",
            "\u001b[?25h"
          ]
        }
      ]
    },
    {
      "cell_type": "code",
      "source": [
        "!pip list | grep streamlit"
      ],
      "metadata": {
        "colab": {
          "base_uri": "https://localhost:8080/"
        },
        "id": "TjwWZnluX4zS",
        "outputId": "867d63ca-1c9a-4d5d-8f03-13595510aca9"
      },
      "execution_count": 9,
      "outputs": [
        {
          "output_type": "stream",
          "name": "stdout",
          "text": [
            "streamlit                             1.45.0\n"
          ]
        }
      ]
    },
    {
      "cell_type": "code",
      "source": [
        "!pip install streamlit -q"
      ],
      "metadata": {
        "id": "13S3kIjCX61g"
      },
      "execution_count": 10,
      "outputs": []
    },
    {
      "cell_type": "code",
      "source": [
        "%%writefile Home.py\n",
        "import streamlit as st\n",
        "\n",
        "# Judul halaman\n",
        "st.title(\"Dasar-Dasar Pengembangan Machine Learning\")\n",
        "\n",
        "# Subheader penyambutan\n",
        "st.subheader(\"Selamat datang di Aplikasi Pembelajaran Machine Learning\")\n",
        "\n",
        "# Deskripsi umum\n",
        "st.text(\"Aplikasi ini dibuat untuk memberikan pemahaman dasar mengenai konsep dan proses dalam Machine Learning.\")\n",
        "\n",
        "# Divider untuk pemisah visual\n",
        "st.divider()\n",
        "\n",
        "# Informasi isi aplikasi\n",
        "st.header(\"📌 Tentang Aplikasi Ini\")\n",
        "st.markdown(\"\"\"\n",
        "Aplikasi ini merupakan bagian dari tugas pembelajaran yang bertujuan untuk mengenalkan:\n",
        "- Konsep dasar Machine Learning\n",
        "- Komponen-komponen penting dalam proses ML\n",
        "- Contoh kode implementasi sederhana\n",
        "- Visualisasi rumus matematis yang digunakan\n",
        "\n",
        "Silakan navigasikan ke halaman `Tugas_Pertemuan_2` pada sidebar untuk melihat isi tugas secara lengkap.\n",
        "\"\"\")\n",
        "\n",
        "# Footer atau informasi pengembang\n",
        "st.caption(\"Versi 2.0 | Dibuat untuk Tugas Pertemuan 2 | Oleh Dewi Rahmawati\")\n"
      ],
      "metadata": {
        "colab": {
          "base_uri": "https://localhost:8080/"
        },
        "id": "SP3m1FNbZB1f",
        "outputId": "3f15b2db-b383-4bb0-dba7-7eb7b9dac210"
      },
      "execution_count": 11,
      "outputs": [
        {
          "output_type": "stream",
          "name": "stdout",
          "text": [
            "Writing Home.py\n"
          ]
        }
      ]
    },
    {
      "cell_type": "code",
      "source": [
        "pwd"
      ],
      "metadata": {
        "colab": {
          "base_uri": "https://localhost:8080/",
          "height": 35
        },
        "id": "Ts-cIOvsZJeR",
        "outputId": "c7284a54-e398-4ae3-d041-df7b0b2be5d4"
      },
      "execution_count": 12,
      "outputs": [
        {
          "output_type": "execute_result",
          "data": {
            "text/plain": [
              "'/content/Pengembangan_Machine_Learning'"
            ],
            "application/vnd.google.colaboratory.intrinsic+json": {
              "type": "string"
            }
          },
          "metadata": {},
          "execution_count": 12
        }
      ]
    },
    {
      "cell_type": "code",
      "source": [
        "!ls"
      ],
      "metadata": {
        "colab": {
          "base_uri": "https://localhost:8080/"
        },
        "id": "oFa2rTcnZLHB",
        "outputId": "e235cd47-ec8d-4a3d-c909-cdb572006d24"
      },
      "execution_count": 13,
      "outputs": [
        {
          "output_type": "stream",
          "name": "stdout",
          "text": [
            "Home.py  requirements.txt\n"
          ]
        }
      ]
    },
    {
      "cell_type": "code",
      "source": [
        "!mkdir pages"
      ],
      "metadata": {
        "id": "n4xBgcSWZNM4"
      },
      "execution_count": 14,
      "outputs": []
    },
    {
      "cell_type": "code",
      "source": [
        "!ls"
      ],
      "metadata": {
        "colab": {
          "base_uri": "https://localhost:8080/"
        },
        "id": "8XZsyBLRZQhX",
        "outputId": "1649528d-7588-4546-f097-004c4061fa34"
      },
      "execution_count": 15,
      "outputs": [
        {
          "output_type": "stream",
          "name": "stdout",
          "text": [
            "Home.py  pages\trequirements.txt\n"
          ]
        }
      ]
    },
    {
      "cell_type": "code",
      "source": [
        "!ls pages"
      ],
      "metadata": {
        "id": "whozMPNQZTfs"
      },
      "execution_count": 16,
      "outputs": []
    },
    {
      "cell_type": "code",
      "source": [
        "#contoh Pertemuan 2\n",
        "%%writefile pages/Contoh_Pertemuan_2.py\n",
        "# 1. Menampilkan teks biasa\n",
        "import streamlit as st\n",
        "st.text(\"Selamat datang di aplikasi kami!\")\n",
        "\n",
        "# 2. Heading dan subheading\n",
        "st.title(\"Aplikasi Prediksi Kesegaran Ikan\")\n",
        "st.header(\"Fitur Utama\")\n",
        "st.subheader(\"Menggunakan Machine Learning\")\n",
        "\n",
        "# 3. Menggunakan markdown untuk format teks\n",
        "st.markdown(\"**Teks Tebal** dan *Teks Miring*\")\n",
        "st.markdown(\"> Ini adalah kutipan.\")\n",
        "st.markdown(\"- Item pertama\\n- Item kedua\\n- Item ketiga\")\n",
        "\n",
        "# 4. Menampilkan caption\n",
        "st.caption(\"Dikembangkan oleh Tim Data Science\")\n",
        "\n",
        "# 5. Menampilkan kode program\n",
        "st.code(\"\"\"\n",
        "def hello():\n",
        "    print(\"Hello, Streamlit!\")\n",
        "\"\"\", language=\"python\")\n",
        "\n",
        "# 6. Menampilkan rumus matematika dengan Latex\n",
        "st.latex(r\"\\int_a^b f(x)dx = F(b) - F(a)\")\n",
        "\n",
        "# 7. Menampilkan garis pemisah\n",
        "st.divider()\n",
        "\n",
        "# 8. Menampilkan kode Python beserta outputnya\n",
        "st.title(\"Demonstrasi st.echo()\")\n",
        "\n",
        "with st.echo():\n",
        "    st.write(\"Halo, ini teks yang ditampilkan di Streamlit!\")\n",
        "    angka = 10 + 5\n",
        "    st.write(f\"Hasil perhitungan: {angka}\")"
      ],
      "metadata": {
        "colab": {
          "base_uri": "https://localhost:8080/"
        },
        "id": "xaXl2foAZXNr",
        "outputId": "1aed7943-9fc3-4e8b-8ae2-642c5dfce621"
      },
      "execution_count": 17,
      "outputs": [
        {
          "output_type": "stream",
          "name": "stdout",
          "text": [
            "Writing pages/Contoh_Pertemuan_2.py\n"
          ]
        }
      ]
    },
    {
      "cell_type": "code",
      "source": [
        "%%writefile pages/Tugas_Pertemuan_2.py\n",
        "import streamlit as st\n",
        "\n",
        "# Menampilkan judul utama aplikasi\n",
        "st.title(\"Dasar-Dasar Pengembangan Machine Learning\")\n",
        "\n",
        "# Menampilkan deskripsi umum tentang topik\n",
        "st.text(\"Machine Learning merupakan metode modern yang memungkinkan komputer belajar dari data dan mengambil keputusan secara otomatis.\")\n",
        "\n",
        "# Menampilkan header untuk fitur utama\n",
        "st.subheader(\"Komponen Kunci dalam Machine Learning\")\n",
        "\n",
        "# Menampilkan daftar fitur dalam format unordered list\n",
        "st.markdown(\"\"\"\n",
        "- **Dataset**: Kumpulan data yang digunakan untuk melatih model.\n",
        "- **Fitur dan Label**: Fitur adalah input, label adalah target output.\n",
        "- **Model**: Algoritma yang digunakan untuk belajar dari data.\n",
        "- **Training dan Testing**: Data dibagi untuk melatih dan menguji performa.\n",
        "- **Evaluasi**: Pengukuran performa model menggunakan metrik tertentu.\n",
        "\"\"\")\n",
        "\n",
        "# Menampilkan daftar langkah kerja dalam format ordered list\n",
        "st.markdown(\"\"\"\n",
        "1. Menentukan masalah yang ingin diselesaikan.\n",
        "2. Mengumpulkan data yang relevan dan berkualitas.\n",
        "3. Melakukan praproses data seperti normalisasi dan pembersihan.\n",
        "4. Melatih model dengan data training.\n",
        "5. Mengevaluasi performa model dan melakukan tuning jika perlu.\n",
        "\"\"\")\n",
        "\n",
        "# Menampilkan subheader contoh penggunaan kode\n",
        "st.subheader(\"Contoh Kode: Klasifikasi dengan KNN\")\n",
        "\n",
        "# Menampilkan contoh kode\n",
        "st.code(\"\"\"\n",
        "from sklearn.neighbors import KNeighborsClassifier\n",
        "from sklearn.datasets import load_iris\n",
        "\n",
        "# Memuat dataset\n",
        "data = load_iris()\n",
        "X, y = data.data, data.target\n",
        "\n",
        "# Membuat dan melatih model\n",
        "model = KNeighborsClassifier(n_neighbors=3)\n",
        "model.fit(X, y)\n",
        "\n",
        "# Prediksi kelas untuk data baru\n",
        "hasil = model.predict([[5.1, 3.5, 1.4, 0.2]])\n",
        "print(hasil)  # Output: [0]\n",
        "\"\"\")\n",
        "\n",
        "# Menampilkan gambar dengan caption\n",
        "st.image(\"/content/Pengembangan_Machine_Learning/images/algoritma-knn.png\", caption=\"Diagram Algoritma K-Nearest Neighbors (KNN) dalam Klasifikasi\")\n",
        "\n",
        "# Menampilkan pemisah\n",
        "st.divider()\n",
        "\n",
        "# Menampilkan subheader untuk model matematis\n",
        "st.subheader(\"Konsep Dasar Jarak Euclidean\")\n",
        "\n",
        "# Menampilkan rumus matematika\n",
        "st.latex(r\"\"\"\n",
        "d(p, q) = \\sqrt{(p_1 - q_1)^2 + (p_2 - q_2)^2 + \\dots + (p_n - q_n)^2}\n",
        "\"\"\")\n",
        "\n",
        "st.write(\"Di mana:\")\n",
        "st.markdown(\"\"\"\n",
        "- \\( p \\) dan \\( q \\) adalah dua titik dalam ruang fitur\n",
        "- \\( d(p, q) \\) adalah jarak Euclidean antara keduanya\n",
        "- Rumus ini digunakan dalam algoritma KNN untuk menentukan kedekatan antar titik\n",
        "\"\"\")\n",
        "\n",
        "# Menampilkan catatan tambahan\n",
        "st.caption(\"Versi 2.0 | Alternatif Tugas Pertemuan 2 | Disusun oleh Tim Pembelajaran Machine Learning\")\n"
      ],
      "metadata": {
        "colab": {
          "base_uri": "https://localhost:8080/"
        },
        "id": "h4NXclNMZdUa",
        "outputId": "e9933b1a-3dca-4090-abd0-a19e65a29cea"
      },
      "execution_count": 20,
      "outputs": [
        {
          "output_type": "stream",
          "name": "stdout",
          "text": [
            "Overwriting pages/Tugas_Pertemuan_2.py\n"
          ]
        }
      ]
    },
    {
      "cell_type": "code",
      "source": [
        "!mkdir images"
      ],
      "metadata": {
        "id": "UjpKT_HLZqdd"
      },
      "execution_count": 19,
      "outputs": []
    },
    {
      "cell_type": "code",
      "source": [
        "!cat Home.py"
      ],
      "metadata": {
        "colab": {
          "base_uri": "https://localhost:8080/"
        },
        "id": "9BMYvwpyaDqe",
        "outputId": "29b2e085-7911-4960-ca36-08ccac2f6401"
      },
      "execution_count": 21,
      "outputs": [
        {
          "output_type": "stream",
          "name": "stdout",
          "text": [
            "import streamlit as st\n",
            "\n",
            "# Judul halaman\n",
            "st.title(\"Dasar-Dasar Pengembangan Machine Learning\")\n",
            "\n",
            "# Subheader penyambutan\n",
            "st.subheader(\"Selamat datang di Aplikasi Pembelajaran Machine Learning\")\n",
            "\n",
            "# Deskripsi umum\n",
            "st.text(\"Aplikasi ini dibuat untuk memberikan pemahaman dasar mengenai konsep dan proses dalam Machine Learning.\")\n",
            "\n",
            "# Divider untuk pemisah visual\n",
            "st.divider()\n",
            "\n",
            "# Informasi isi aplikasi\n",
            "st.header(\"📌 Tentang Aplikasi Ini\")\n",
            "st.markdown(\"\"\"\n",
            "Aplikasi ini merupakan bagian dari tugas pembelajaran yang bertujuan untuk mengenalkan:\n",
            "- Konsep dasar Machine Learning\n",
            "- Komponen-komponen penting dalam proses ML\n",
            "- Contoh kode implementasi sederhana\n",
            "- Visualisasi rumus matematis yang digunakan\n",
            "\n",
            "Silakan navigasikan ke halaman `Tugas_Pertemuan_2` pada sidebar untuk melihat isi tugas secara lengkap.\n",
            "\"\"\")\n",
            "\n",
            "# Footer atau informasi pengembang\n",
            "st.caption(\"Versi 2.0 | Dibuat untuk Tugas Pertemuan 2 | Oleh Dewi Rahmawati\")\n"
          ]
        }
      ]
    },
    {
      "cell_type": "markdown",
      "source": [
        "#Deployment Streamlit"
      ],
      "metadata": {
        "id": "ZpcV0_fIaHvO"
      }
    },
    {
      "cell_type": "code",
      "source": [
        "!npm install localtunnel"
      ],
      "metadata": {
        "colab": {
          "base_uri": "https://localhost:8080/"
        },
        "id": "OeeRiZ8paKzK",
        "outputId": "d30cf62d-1528-4b32-b7ea-ee346d6e2bcc"
      },
      "execution_count": 22,
      "outputs": [
        {
          "output_type": "stream",
          "name": "stdout",
          "text": [
            "\u001b[1G\u001b[0K⠙\u001b[1G\u001b[0K⠹\u001b[1G\u001b[0K⠸\u001b[1G\u001b[0K⠼\u001b[1G\u001b[0K⠴\u001b[1G\u001b[0K⠦\u001b[1G\u001b[0K⠧\u001b[1G\u001b[0K⠇\u001b[1G\u001b[0K⠏\u001b[1G\u001b[0K⠋\u001b[1G\u001b[0K⠙\u001b[1G\u001b[0K⠹\u001b[1G\u001b[0K⠸\u001b[1G\u001b[0K⠼\u001b[1G\u001b[0K⠴\u001b[1G\u001b[0K⠦\u001b[1G\u001b[0K⠧\u001b[1G\u001b[0K⠇\u001b[1G\u001b[0K⠏\u001b[1G\u001b[0K⠋\u001b[1G\u001b[0K⠙\u001b[1G\u001b[0K⠹\u001b[1G\u001b[0K⠸\u001b[1G\u001b[0K⠼\u001b[1G\u001b[0K⠴\u001b[1G\u001b[0K⠦\u001b[1G\u001b[0K⠧\u001b[1G\u001b[0K⠇\u001b[1G\u001b[0K\n",
            "added 22 packages in 3s\n",
            "\u001b[1G\u001b[0K⠇\u001b[1G\u001b[0K\n",
            "\u001b[1G\u001b[0K⠇\u001b[1G\u001b[0K3 packages are looking for funding\n",
            "\u001b[1G\u001b[0K⠇\u001b[1G\u001b[0K  run `npm fund` for details\n",
            "\u001b[1G\u001b[0K⠇\u001b[1G\u001b[0K"
          ]
        }
      ]
    },
    {
      "cell_type": "code",
      "source": [
        "!streamlit run /content/Pengembangan_Machine_Learning/Home.py &>/content/Pengembangan_Machine_Learning/logs.txt &"
      ],
      "metadata": {
        "id": "I3M1Ls_JaOGX"
      },
      "execution_count": 23,
      "outputs": []
    },
    {
      "cell_type": "code",
      "source": [
        "!timeout 30 cat /content/Pengembangan_Machine_Learning/logs.txt"
      ],
      "metadata": {
        "colab": {
          "base_uri": "https://localhost:8080/"
        },
        "id": "lr--vJQbaVsz",
        "outputId": "45dc8ae2-4bd5-442c-d79a-c3974967a67c"
      },
      "execution_count": 24,
      "outputs": [
        {
          "output_type": "stream",
          "name": "stdout",
          "text": [
            "\n",
            "Collecting usage statistics. To deactivate, set browser.gatherUsageStats to false.\n",
            "\n",
            "\n",
            "  You can now view your Streamlit app in your browser.\n",
            "\n",
            "  Local URL: http://localhost:8501\n",
            "  Network URL: http://172.28.0.12:8501\n",
            "  External URL: http://34.106.234.91:8501\n",
            "\n"
          ]
        }
      ]
    },
    {
      "cell_type": "code",
      "source": [
        "import requests\n",
        "requests.get('https://api.ipify.org').text"
      ],
      "metadata": {
        "colab": {
          "base_uri": "https://localhost:8080/",
          "height": 35
        },
        "id": "MJFPIQZZaYGC",
        "outputId": "94fd91f7-7ce9-4657-aee4-e696ef486192"
      },
      "execution_count": 25,
      "outputs": [
        {
          "output_type": "execute_result",
          "data": {
            "text/plain": [
              "'34.106.234.91'"
            ],
            "application/vnd.google.colaboratory.intrinsic+json": {
              "type": "string"
            }
          },
          "metadata": {},
          "execution_count": 25
        }
      ]
    },
    {
      "cell_type": "code",
      "source": [
        "!npx localtunnel --port 8501"
      ],
      "metadata": {
        "colab": {
          "base_uri": "https://localhost:8080/"
        },
        "id": "rNt5C5T2aaNU",
        "outputId": "72199de3-cbf9-4a9e-d7fe-703bf18efcb4"
      },
      "execution_count": 26,
      "outputs": [
        {
          "output_type": "stream",
          "name": "stdout",
          "text": [
            "\u001b[1G\u001b[0K⠙\u001b[1G\u001b[0Kyour url is: https://slick-socks-hug.loca.lt\n",
            "/content/Pengembangan_Machine_Learning/node_modules/localtunnel/bin/lt.js:81\n",
            "    throw err;\n",
            "    ^\n",
            "\n",
            "Error: connection refused: localtunnel.me:16031 (check your firewall settings)\n",
            "    at Socket.<anonymous> \u001b[90m(/content/Pengembangan_Machine_Learning/\u001b[39mnode_modules/\u001b[4mlocaltunnel\u001b[24m/lib/TunnelCluster.js:52:11\u001b[90m)\u001b[39m\n",
            "\u001b[90m    at Socket.emit (node:events:524:28)\u001b[39m\n",
            "\u001b[90m    at emitErrorNT (node:internal/streams/destroy:169:8)\u001b[39m\n",
            "\u001b[90m    at emitErrorCloseNT (node:internal/streams/destroy:128:3)\u001b[39m\n",
            "\u001b[90m    at process.processTicksAndRejections (node:internal/process/task_queues:82:21)\u001b[39m\n",
            "\n",
            "Node.js v20.19.0\n",
            "\u001b[1G\u001b[0K⠙\u001b[1G\u001b[0K"
          ]
        }
      ]
    }
  ]
}